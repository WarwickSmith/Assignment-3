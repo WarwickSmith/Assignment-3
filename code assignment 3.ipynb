{
 "cells": [
  {
   "cell_type": "code",
   "execution_count": 2,
   "id": "002f5d87-6080-44ee-b232-fcd80f2f5680",
   "metadata": {
    "tags": []
   },
   "outputs": [
    {
     "name": "stdout",
     "output_type": "stream",
     "text": [
      "Final numbers obtained in all simulations:\n",
      "{0, 258, 2, 4, 518, 10, 266, 268, 14, 272, 276, 790, 280, 26, 282, 540, 28, 794, 286, 32, 38, 298, 300, 558, 1070, 48, 306, 52, 58, 60, 578, 68, 584, 80, 82, 84, 88, 90, 92, 96, 98, 868, 100, 358, 104, 106, 876, 622, 110, 624, 628, 630, 120, 378, 126, 382, 128, 644, 138, 152, 156, 930, 418, 172, 184, 186, 194, 452, 454, 200, 462, 208, 210, 470, 984, 986, 482, 226, 740, 242, 762, 254}\n"
     ]
    }
   ],
   "source": [
    "import random\n",
    "\n",
    "def simulate_process():\n",
    "    pieces_of_paper = list(range(1, 2025))\n",
    "    final_numbers = set()\n",
    "    while len(pieces_of_paper) > 1:\n",
    "        draw1, draw2 = random.sample(pieces_of_paper, 2)\n",
    "        difference = abs(draw1 - draw2)\n",
    "        pieces_of_paper.remove(draw1)\n",
    "        pieces_of_paper.remove(draw2)\n",
    "        pieces_of_paper.append(difference)\n",
    "    final_numbers.add(pieces_of_paper[0])\n",
    "    return final_numbers\n",
    "num_simulations = 100\n",
    "all_final_numbers = set()\n",
    "for _ in range(num_simulations):\n",
    "    final_numbers = simulate_process()\n",
    "    all_final_numbers.update(final_numbers)\n",
    "\n",
    "# Print all final numbers obtained in the simulations\n",
    "print(\"Final numbers obtained in all simulations:\")\n",
    "print(all_final_numbers)\n"
   ]
  },
  {
   "cell_type": "code",
   "execution_count": null,
   "id": "26930767-5d9c-4d8e-a4cd-ba13db5cb6ad",
   "metadata": {},
   "outputs": [],
   "source": []
  }
 ],
 "metadata": {
  "kernelspec": {
   "display_name": "Python 3 (ipykernel)",
   "language": "python",
   "name": "python3"
  },
  "language_info": {
   "codemirror_mode": {
    "name": "ipython",
    "version": 3
   },
   "file_extension": ".py",
   "mimetype": "text/x-python",
   "name": "python",
   "nbconvert_exporter": "python",
   "pygments_lexer": "ipython3",
   "version": "3.9.7"
  }
 },
 "nbformat": 4,
 "nbformat_minor": 5
}
